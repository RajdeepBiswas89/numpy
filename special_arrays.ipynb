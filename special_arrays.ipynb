{
 "cells": [
  {
   "cell_type": "markdown",
   "id": "7eefe06c-4ef2-4982-8221-a2e1274754db",
   "metadata": {},
   "source": [
    "**matrix of zeros**"
   ]
  },
  {
   "cell_type": "code",
   "execution_count": 3,
   "id": "4853fd9a-cb13-4e2c-8ce9-4e90554464cd",
   "metadata": {},
   "outputs": [
    {
     "name": "stdout",
     "output_type": "stream",
     "text": [
      "[0. 0. 0. 0.]\n",
      "\n",
      "[[0. 0. 0. 0.]\n",
      " [0. 0. 0. 0.]\n",
      " [0. 0. 0. 0.]]\n"
     ]
    }
   ],
   "source": [
    "import numpy as np\n",
    "ar_zero= np.zeros(4)\n",
    "ar_zero1=np.zeros((3,4)) #2d zero matrix\n",
    "print(ar_zero)\n",
    "print()\n",
    "print(ar_zero1)"
   ]
  },
  {
   "cell_type": "markdown",
   "id": "2207a503-8308-44cc-9eb8-0bd2f1bc115b",
   "metadata": {},
   "source": [
    "**matrix of Ones**"
   ]
  },
  {
   "cell_type": "code",
   "execution_count": 6,
   "id": "e18a530c-bc74-475a-8323-6d6a746dce6f",
   "metadata": {},
   "outputs": [
    {
     "name": "stdout",
     "output_type": "stream",
     "text": [
      "[1. 1. 1. 1.]\n",
      "\n",
      "[[1. 1. 1.]\n",
      " [1. 1. 1.]\n",
      " [1. 1. 1.]\n",
      " [1. 1. 1.]\n",
      " [1. 1. 1.]]\n"
     ]
    }
   ],
   "source": [
    "ar_one=np.ones(4)#4 represent no. of columns and default it takes 1 no.of rows\n",
    "ar_one1=np.ones((5,3))#5 represent no.of rows and 3 represent number of columns\n",
    "print(ar_one)\n",
    "print()\n",
    "print(ar_one1)"
   ]
  },
  {
   "cell_type": "markdown",
   "id": "26609bbc-6177-4efa-a974-33f0dfa8e5dc",
   "metadata": {},
   "source": [
    "**CREATING AN EMPTY ARRAY**"
   ]
  },
  {
   "cell_type": "code",
   "execution_count": 8,
   "id": "a2cac76e-2dd8-4ba5-93b9-d929bd6c8c67",
   "metadata": {},
   "outputs": [
    {
     "name": "stdout",
     "output_type": "stream",
     "text": [
      "[1. 1. 1. 1.]\n"
     ]
    }
   ],
   "source": [
    "arr_empty=np.empty(4)\n",
    "print(arr_empty)"
   ]
  },
  {
   "cell_type": "markdown",
   "id": "daa5d283-b8df-41f6-bd5f-1ab06e90f316",
   "metadata": {},
   "source": [
    "**RANGE OF ELEMENTS**"
   ]
  },
  {
   "cell_type": "code",
   "execution_count": 10,
   "id": "f5933e79-8084-448f-bb6b-f5cf07edb158",
   "metadata": {},
   "outputs": [
    {
     "name": "stdout",
     "output_type": "stream",
     "text": [
      "[0 1 2 3 4 5 6]\n"
     ]
    }
   ],
   "source": [
    "arr_range=np.arange(7)\n",
    "print(arr_range)"
   ]
  },
  {
   "cell_type": "markdown",
   "id": "d8fddf9a-7016-42cd-908b-f90f560ad3a5",
   "metadata": {},
   "source": [
    "**IDENTITY MATRIX**"
   ]
  },
  {
   "cell_type": "code",
   "execution_count": 14,
   "id": "556994b8-a763-4b7a-b13a-0099348fce03",
   "metadata": {},
   "outputs": [
    {
     "name": "stdout",
     "output_type": "stream",
     "text": [
      "[[1. 0. 0. 0. 0.]\n",
      " [0. 1. 0. 0. 0.]\n",
      " [0. 0. 1. 0. 0.]\n",
      " [0. 0. 0. 1. 0.]\n",
      " [0. 0. 0. 0. 1.]]\n",
      "\n",
      "[[1. 0. 0. 0. 0. 0.]\n",
      " [0. 1. 0. 0. 0. 0.]\n",
      " [0. 0. 1. 0. 0. 0.]]\n"
     ]
    }
   ],
   "source": [
    "arr_dia=np.eye(5)\n",
    "arr_dia1=np.eye(3,6)\n",
    "print(arr_dia)\n",
    "print()\n",
    "print(arr_dia1)"
   ]
  },
  {
   "cell_type": "markdown",
   "id": "c644f862-3608-470e-9fb3-5a7fbba4cbd1",
   "metadata": {},
   "source": [
    "**LINSPACE**"
   ]
  },
  {
   "cell_type": "code",
   "execution_count": 17,
   "id": "2a7ac996-da03-4ed0-a65d-3c473b098c6e",
   "metadata": {},
   "outputs": [
    {
     "name": "stdout",
     "output_type": "stream",
     "text": [
      "[ 0.          0.28985507  0.57971014  0.86956522  1.15942029  1.44927536\n",
      "  1.73913043  2.02898551  2.31884058  2.60869565  2.89855072  3.1884058\n",
      "  3.47826087  3.76811594  4.05797101  4.34782609  4.63768116  4.92753623\n",
      "  5.2173913   5.50724638  5.79710145  6.08695652  6.37681159  6.66666667\n",
      "  6.95652174  7.24637681  7.53623188  7.82608696  8.11594203  8.4057971\n",
      "  8.69565217  8.98550725  9.27536232  9.56521739  9.85507246 10.14492754\n",
      " 10.43478261 10.72463768 11.01449275 11.30434783 11.5942029  11.88405797\n",
      " 12.17391304 12.46376812 12.75362319 13.04347826 13.33333333 13.62318841\n",
      " 13.91304348 14.20289855 14.49275362 14.7826087  15.07246377 15.36231884\n",
      " 15.65217391 15.94202899 16.23188406 16.52173913 16.8115942  17.10144928\n",
      " 17.39130435 17.68115942 17.97101449 18.26086957 18.55072464 18.84057971\n",
      " 19.13043478 19.42028986 19.71014493 20.        ]\n"
     ]
    }
   ],
   "source": [
    "ar_linspace=np.linspace(0,20,num=70)\n",
    "print(ar_linspace)"
   ]
  },
  {
   "cell_type": "code",
   "execution_count": null,
   "id": "c8d1fc22-56d7-469a-8703-2a5cf633ba9f",
   "metadata": {},
   "outputs": [],
   "source": []
  }
 ],
 "metadata": {
  "kernelspec": {
   "display_name": "Python 3 (ipykernel)",
   "language": "python",
   "name": "python3"
  },
  "language_info": {
   "codemirror_mode": {
    "name": "ipython",
    "version": 3
   },
   "file_extension": ".py",
   "mimetype": "text/x-python",
   "name": "python",
   "nbconvert_exporter": "python",
   "pygments_lexer": "ipython3",
   "version": "3.12.4"
  }
 },
 "nbformat": 4,
 "nbformat_minor": 5
}
