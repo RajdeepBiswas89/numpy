{
 "cells": [
  {
   "cell_type": "markdown",
   "id": "129b2a26-ff35-4683-983a-bfb08a70c50b",
   "metadata": {},
   "source": [
    "shaping of an matrix"
   ]
  },
  {
   "cell_type": "code",
   "execution_count": 4,
   "id": "e4193308-f841-421d-81d5-bd9ab4a37f31",
   "metadata": {
    "scrolled": true
   },
   "outputs": [
    {
     "name": "stdout",
     "output_type": "stream",
     "text": [
      "(2, 4)\n",
      "(1, 1, 1, 1, 1, 1, 1, 1, 1, 3)\n"
     ]
    }
   ],
   "source": [
    "import numpy as np\n",
    "arr= np.array([[1,2,3,5],[2,3,4,5]])#rows=2 and columns=4\n",
    "arr1=np.array([1,2,3],ndmin=10)\n",
    "print(np.shape(arr))\n",
    "print(np.shape(arr1))"
   ]
  },
  {
   "cell_type": "markdown",
   "id": "45eb225e-0dbe-4215-b6fb-0604c6e239a8",
   "metadata": {},
   "source": [
    "reshaping an matrix or array"
   ]
  },
  {
   "cell_type": "code",
   "execution_count": 8,
   "id": "7c7e412e-9833-4118-8cea-caf2d799eb6e",
   "metadata": {},
   "outputs": [
    {
     "name": "stdout",
     "output_type": "stream",
     "text": [
      "[[[1 2]\n",
      "  [3 5]]\n",
      "\n",
      " [[2 3]\n",
      "  [4 5]]]\n",
      "\n",
      "[1 2 3 5 2 3 4 5]\n"
     ]
    }
   ],
   "source": [
    "x= arr.reshape(-1) #converting it into 1d array\n",
    "y= arr.reshape(2,2,2) #converting into 3d array\n",
    "print(y)\n",
    "print()\n",
    "print(x)"
   ]
  },
  {
   "cell_type": "code",
   "execution_count": null,
   "id": "f30cecda-4c04-4498-87c8-45550c720d94",
   "metadata": {},
   "outputs": [],
   "source": []
  }
 ],
 "metadata": {
  "kernelspec": {
   "display_name": "Python 3 (ipykernel)",
   "language": "python",
   "name": "python3"
  },
  "language_info": {
   "codemirror_mode": {
    "name": "ipython",
    "version": 3
   },
   "file_extension": ".py",
   "mimetype": "text/x-python",
   "name": "python",
   "nbconvert_exporter": "python",
   "pygments_lexer": "ipython3",
   "version": "3.12.4"
  }
 },
 "nbformat": 4,
 "nbformat_minor": 5
}
