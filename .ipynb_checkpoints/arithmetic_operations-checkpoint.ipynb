{
 "cells": [
  {
   "cell_type": "markdown",
   "id": "a22382cd-8e4c-4669-9b0a-95115af63bfa",
   "metadata": {},
   "source": [
    "**ARITHMETIC OPERATIONS**"
   ]
  },
  {
   "cell_type": "code",
   "execution_count": 4,
   "id": "89c641b5-c544-45a8-b5a8-20346494138b",
   "metadata": {},
   "outputs": [
    {
     "name": "stdout",
     "output_type": "stream",
     "text": [
      "addition of two matrix [ 7  9 11 13 13]\n",
      "multiplication of two matrix [ 6 14 24 36 40]\n",
      "division of two matrix [0.16666667 0.28571429 0.375      0.44444444 0.625     ]\n",
      "modulus of two matrix  [1 2 3 4 5]\n"
     ]
    }
   ],
   "source": [
    "import numpy as np\n",
    "var1=np.array([1,2,3,4,5])\n",
    "var2=np.array([6,7,8,9,8])\n",
    "var_add= var1+var2\n",
    "var_mul=var1*var2\n",
    "var_div= var1/var2\n",
    "var_mod= var1 % var2\n",
    "print(\"addition of two matrix\",var_add)\n",
    "print(\"multiplication of two matrix\",var_mul)\n",
    "print(\"division of two matrix\",var_div)\n",
    "print(\"modulus of two matrix \", var_mod)\n"
   ]
  },
  {
   "cell_type": "markdown",
   "id": "28539279-a08b-496e-8e08-7b7456046a0a",
   "metadata": {},
   "source": [
    "**BY USING FUNCTIONS**"
   ]
  },
  {
   "cell_type": "code",
   "execution_count": 9,
   "id": "97bb4a61-9c51-4fc6-975f-28508828c5ab",
   "metadata": {},
   "outputs": [
    {
     "name": "stdout",
     "output_type": "stream",
     "text": [
      "addition of two matrix [ 7  9 11 13 13]\n",
      "multiplication of two matrix [ 6 14 24 36 40]\n",
      "division of two matrix [0.16666667 0.28571429 0.375      0.44444444 0.625     ]\n",
      "modulus of two matrix  [1 2 3 4 5]\n",
      "reciprocal of var1 matrix [1 0 0 0 0]\n",
      "power of var1 matrix [     1    128   6561 262144 390625]\n"
     ]
    }
   ],
   "source": [
    "var1=np.array([1,2,3,4,5])\n",
    "var2=np.array([6,7,8,9,8])\n",
    "var_add1=np.add(var1,var2)\n",
    "var_mul1=np.multiply(var1,var2)\n",
    "var_div1= np.divide(var1,var2)\n",
    "var_mod1= np.mod(var1,var2)\n",
    "var_rec= np.reciprocal(var1)\n",
    "var_power = np.power(var1,var2)\n",
    "print(\"addition of two matrix\",var_add1)\n",
    "print(\"multiplication of two matrix\",var_mul1)\n",
    "print(\"division of two matrix\",var_div1)\n",
    "print(\"modulus of two matrix \", var_mod1)\n",
    "print(\"reciprocal of var1 matrix\",var_rec)\n",
    "print(\"power of var1 matrix\",var_power)"
   ]
  },
  {
   "cell_type": "markdown",
   "id": "850c6e7b-8b17-41fd-af9c-c6c56ca6b851",
   "metadata": {},
   "source": [
    "**arithmetic operations on 2D matrix**"
   ]
  },
  {
   "cell_type": "code",
   "execution_count": 13,
   "id": "b9c8db9c-b345-415f-abb3-add548dd7243",
   "metadata": {},
   "outputs": [
    {
     "name": "stdout",
     "output_type": "stream",
     "text": [
      "[[[ 2  4  8 10 12]\n",
      "  [ 4  8 12 14 16]\n",
      "  [12 12 16  4 10]]]\n",
      "[[[ 1  4 16 25 36]\n",
      "  [ 4 16 36 49 64]\n",
      "  [36 36 64  4 25]]]\n"
     ]
    }
   ],
   "source": [
    "x=np.array([[[1,2,4,5,6],[2,4,6,7,8],[6,6,8,2,5]]])\n",
    "y=np.array([[[1,2,4,5,6],[2,4,6,7,8],[6,6,8,2,5]]])\n",
    "addition= np.add(x,y)\n",
    "multiply=np.multiply(x,y)\n",
    "print(addition)\n",
    "print(multiply)"
   ]
  },
  {
   "cell_type": "code",
   "execution_count": null,
   "id": "789f6d74-813e-428f-80d4-433c5bd2038f",
   "metadata": {},
   "outputs": [],
   "source": []
  }
 ],
 "metadata": {
  "kernelspec": {
   "display_name": "Python 3 (ipykernel)",
   "language": "python",
   "name": "python3"
  },
  "language_info": {
   "codemirror_mode": {
    "name": "ipython",
    "version": 3
   },
   "file_extension": ".py",
   "mimetype": "text/x-python",
   "name": "python",
   "nbconvert_exporter": "python",
   "pygments_lexer": "ipython3",
   "version": "3.12.4"
  }
 },
 "nbformat": 4,
 "nbformat_minor": 5
}
