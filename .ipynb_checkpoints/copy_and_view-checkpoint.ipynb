{
 "cells": [
  {
   "cell_type": "markdown",
   "id": "fb0f5e5a-8139-4918-b091-d436f78bfb7f",
   "metadata": {},
   "source": [
    "copy function= 1)copy the owns data\n",
    "2)the copy of the array is the new array means it creates a separate memory locations\n",
    "3)the changes made in the copy data doesnt affect the original data"
   ]
  },
  {
   "cell_type": "code",
   "execution_count": 7,
   "id": "89e37e9a-8917-4473-8283-5a7cb24aa7ed",
   "metadata": {},
   "outputs": [
    {
     "name": "stdout",
     "output_type": "stream",
     "text": [
      "[ 1 23  3  4  5  6  7  8]\n",
      "[1 2 3 4 5 6 7 8]\n"
     ]
    }
   ],
   "source": [
    "import numpy as np\n",
    "x= np.array([1,2,3,4,5,6,7,8])\n",
    "co=np.copy(x)\n",
    "x[1]=23 #after changing the original array it doesnt affects the copied array\n",
    "print(x)\n",
    "print(co)\n"
   ]
  },
  {
   "cell_type": "code",
   "execution_count": 9,
   "id": "3dd2ee40-b24e-475f-b4b3-37acca03f4dd",
   "metadata": {},
   "outputs": [
    {
     "name": "stdout",
     "output_type": "stream",
     "text": [
      "[ 1 78  3  4  5  6  7  8]\n",
      "[ 1 78  3  4  5  6  7  8]\n"
     ]
    }
   ],
   "source": [
    "x= np.array([1,2,3,4,5,6,7,8])\n",
    "vi=x.view()\n",
    "x[1]=78 #after changing the original array it affected the viewed array\n",
    "print(x)\n",
    "print(vi)"
   ]
  },
  {
   "cell_type": "code",
   "execution_count": null,
   "id": "9afe862f-e77d-4147-b321-428faf1ce88b",
   "metadata": {},
   "outputs": [],
   "source": []
  }
 ],
 "metadata": {
  "kernelspec": {
   "display_name": "Python 3 (ipykernel)",
   "language": "python",
   "name": "python3"
  },
  "language_info": {
   "codemirror_mode": {
    "name": "ipython",
    "version": 3
   },
   "file_extension": ".py",
   "mimetype": "text/x-python",
   "name": "python",
   "nbconvert_exporter": "python",
   "pygments_lexer": "ipython3",
   "version": "3.12.4"
  }
 },
 "nbformat": 4,
 "nbformat_minor": 5
}
