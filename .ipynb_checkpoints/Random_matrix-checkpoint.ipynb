{
 "cells": [
  {
   "cell_type": "markdown",
   "id": "05605a0d-18c4-4d1d-98fa-b2e7241f73e2",
   "metadata": {},
   "source": [
    "**RANDOM FUNCTIONS**"
   ]
  },
  {
   "cell_type": "markdown",
   "id": "67c54843-5161-4d59-99fd-733a4d95f683",
   "metadata": {},
   "source": [
    "rand():the functions is used to generate a random value between 0 and 1"
   ]
  },
  {
   "cell_type": "code",
   "execution_count": 10,
   "id": "efe3de0b-5d2a-420a-b201-91dcb0486b20",
   "metadata": {},
   "outputs": [
    {
     "name": "stdout",
     "output_type": "stream",
     "text": [
      "[[0.73386484 0.90063994 0.1849191  0.58609357 0.8632006  0.08519012]\n",
      " [0.37445493 0.65452448 0.2575788  0.35661957 0.0650283  0.03669647]\n",
      " [0.43644544 0.54544458 0.04864319 0.87026625 0.17535422 0.08741778]\n",
      " [0.62739962 0.70312519 0.12139185 0.19093096 0.58096544 0.32370349]\n",
      " [0.02383575 0.866992   0.52749864 0.31286854 0.71231935 0.49540775]]\n"
     ]
    }
   ],
   "source": [
    "import numpy as np\n",
    "var= np.random.rand(5,6) # 5*6 matrix\n",
    "print(var)"
   ]
  },
  {
   "cell_type": "markdown",
   "id": "f3ca7483-2227-4913-8581-472e4498feff",
   "metadata": {},
   "source": [
    "**randn():the function is used to generate a random value close to zero .this may return positive or negetive numbers as well** "
   ]
  },
  {
   "cell_type": "code",
   "execution_count": 4,
   "id": "d78fcb20-a75d-4704-869b-db8de81aec1b",
   "metadata": {},
   "outputs": [
    {
     "name": "stdout",
     "output_type": "stream",
     "text": [
      "[ 1.05978414 -1.51598179 -1.23844818 -0.17246727  0.20138607 -0.91000555]\n"
     ]
    }
   ],
   "source": [
    "var1=np.random.randn(6)\n",
    "print(var1)"
   ]
  },
  {
   "cell_type": "markdown",
   "id": "d37fd0e5-24fb-4fed-80ba-38925c6e4faa",
   "metadata": {},
   "source": [
    "**ranf(): the function for doing random sampling in numpy. it returns an array of specified shape and fills it with random floats in the half open intervals [0.0 ,1.0) not including 1**"
   ]
  },
  {
   "cell_type": "code",
   "execution_count": 5,
   "id": "0536a41f-054c-41d3-8366-82f75710d71d",
   "metadata": {},
   "outputs": [
    {
     "name": "stdout",
     "output_type": "stream",
     "text": [
      "[0.60919354 0.44117754 0.14897696 0.47811932]\n"
     ]
    }
   ],
   "source": [
    "var2=np.random.ranf(4)\n",
    "print(var2)"
   ]
  },
  {
   "cell_type": "markdown",
   "id": "f490217d-f901-459a-8100-a91bb6767781",
   "metadata": {},
   "source": [
    "**randint(): this function is used to generate a random number between a given range**"
   ]
  },
  {
   "cell_type": "code",
   "execution_count": 9,
   "id": "d56bd163-5079-4f4b-acb2-d964cfd5a73b",
   "metadata": {},
   "outputs": [
    {
     "name": "stdout",
     "output_type": "stream",
     "text": [
      "[8 6 9 8 9 6 5 5 9 8 7 7 7 6 9 8 9 7 5 6]\n"
     ]
    }
   ],
   "source": [
    "var3=np.random.randint(5,10,20) #generates 20 numbers between 5 and 10\n",
    "print(var3)"
   ]
  },
  {
   "cell_type": "code",
   "execution_count": null,
   "id": "3aa21f82-fc5c-4d58-8900-a941ecb1ae99",
   "metadata": {},
   "outputs": [],
   "source": []
  }
 ],
 "metadata": {
  "kernelspec": {
   "display_name": "Python 3 (ipykernel)",
   "language": "python",
   "name": "python3"
  },
  "language_info": {
   "codemirror_mode": {
    "name": "ipython",
    "version": 3
   },
   "file_extension": ".py",
   "mimetype": "text/x-python",
   "name": "python",
   "nbconvert_exporter": "python",
   "pygments_lexer": "ipython3",
   "version": "3.12.4"
  }
 },
 "nbformat": 4,
 "nbformat_minor": 5
}
