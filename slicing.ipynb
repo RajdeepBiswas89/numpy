{
 "cells": [
  {
   "cell_type": "markdown",
   "id": "0338c55e-b808-4562-ace1-121196b12b2a",
   "metadata": {},
   "source": [
    "**slicing of a matrix**"
   ]
  },
  {
   "cell_type": "markdown",
   "id": "0ac8d424-8629-42c3-a952-cfe0ac62f2ab",
   "metadata": {},
   "source": [
    "slicing in 1d matrix or array"
   ]
  },
  {
   "cell_type": "code",
   "execution_count": 5,
   "id": "db5451f7-2c45-4f21-8249-382379b805d1",
   "metadata": {},
   "outputs": [
    {
     "name": "stdout",
     "output_type": "stream",
     "text": [
      "[1 2 4 5 6]\n",
      "[ 1  2  4  5  6  8  6  6  3  4 67  7]\n",
      "[ 1  4  6  6  3 67]\n"
     ]
    }
   ],
   "source": [
    "import numpy as np\n",
    "arr= np.array([1,2,4,5,6,8,6,6,3,4,67,7]) \n",
    "print(arr[0:5])\n",
    "print(arr[:])\n",
    "print(arr[::2]) #stepsize=2"
   ]
  },
  {
   "cell_type": "markdown",
   "id": "5977253b-b8e2-464f-bce2-3fea30c7f8c8",
   "metadata": {},
   "source": [
    "slicing in 2d array or matrix"
   ]
  },
  {
   "cell_type": "code",
   "execution_count": 6,
   "id": "5008c81f-1f11-4723-a388-547e0c5d0b5b",
   "metadata": {},
   "outputs": [
    {
     "name": "stdout",
     "output_type": "stream",
     "text": [
      "[ 1  7  8 99]\n"
     ]
    }
   ],
   "source": [
    "arr2d=np.array([[1,2,3,4],[1,7,8,99]])\n",
    "print(arr2d[1,1:5])"
   ]
  },
  {
   "cell_type": "code",
   "execution_count": null,
   "id": "e6aed3b9-2eb0-4db7-8645-a5d3a8bfbeda",
   "metadata": {},
   "outputs": [],
   "source": []
  }
 ],
 "metadata": {
  "kernelspec": {
   "display_name": "Python 3 (ipykernel)",
   "language": "python",
   "name": "python3"
  },
  "language_info": {
   "codemirror_mode": {
    "name": "ipython",
    "version": 3
   },
   "file_extension": ".py",
   "mimetype": "text/x-python",
   "name": "python",
   "nbconvert_exporter": "python",
   "pygments_lexer": "ipython3",
   "version": "3.12.4"
  }
 },
 "nbformat": 4,
 "nbformat_minor": 5
}
