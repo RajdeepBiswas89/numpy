{
 "cells": [
  {
   "cell_type": "markdown",
   "id": "e023bb5c-c931-494f-b1d3-cc5a844b0f30",
   "metadata": {},
   "source": [
    "looping in 1d array"
   ]
  },
  {
   "cell_type": "code",
   "execution_count": 1,
   "id": "bbaa9558-882a-47fb-9eb7-6b3058cad144",
   "metadata": {},
   "outputs": [
    {
     "name": "stdout",
     "output_type": "stream",
     "text": [
      "1\n",
      "2\n",
      "3\n",
      "4\n",
      "5\n",
      "6\n"
     ]
    }
   ],
   "source": [
    "import numpy as np\n",
    "x= np.array([1,2,3,4,5,6])\n",
    "for i in x:\n",
    "    print(i)"
   ]
  },
  {
   "cell_type": "markdown",
   "id": "5e3641ae-c00b-46d2-97f2-8c1103114302",
   "metadata": {},
   "source": [
    "looping in 2d array or matrix"
   ]
  },
  {
   "cell_type": "code",
   "execution_count": 2,
   "id": "25114f18-80e7-4316-b666-d8b9f76270c7",
   "metadata": {},
   "outputs": [
    {
     "name": "stdout",
     "output_type": "stream",
     "text": [
      "1\n",
      "2\n",
      "3\n",
      "4\n",
      "5\n",
      "6\n",
      "7\n",
      "8\n"
     ]
    }
   ],
   "source": [
    "y= np.array([[1,2,3,4],[5,6,7,8]])\n",
    "for a in y:\n",
    "    for b in a:\n",
    "        print(b)"
   ]
  },
  {
   "cell_type": "markdown",
   "id": "5b3bbd5f-f200-4d9e-8408-e8cf06e3415c",
   "metadata": {},
   "source": [
    "using nditer and ndenumerate functions:-"
   ]
  },
  {
   "cell_type": "code",
   "execution_count": 4,
   "id": "335eb91b-492c-43b7-b713-ca52719a2dd4",
   "metadata": {},
   "outputs": [
    {
     "name": "stdout",
     "output_type": "stream",
     "text": [
      "1\n",
      "2\n",
      "3\n",
      "4\n",
      "5\n",
      "6\n",
      "7\n",
      "8\n"
     ]
    }
   ],
   "source": [
    "z= np.array([[1,2,3,4],[5,6,7,8]])\n",
    "for n in np.nditer(z):\n",
    "    print(n)"
   ]
  },
  {
   "cell_type": "code",
   "execution_count": 7,
   "id": "ca28ec34-9c6b-4aa3-9468-af1e4877f38b",
   "metadata": {},
   "outputs": [
    {
     "name": "stdout",
     "output_type": "stream",
     "text": [
      "1 (0, 0)\n",
      "2 (0, 1)\n",
      "3 (0, 2)\n",
      "4 (0, 3)\n",
      "5 (1, 0)\n",
      "6 (1, 1)\n",
      "7 (1, 2)\n",
      "8 (1, 3)\n"
     ]
    }
   ],
   "source": [
    "y= np.array([[1,2,3,4],[5,6,7,8]])\n",
    "for i,d in np.ndenumerate(y): #this function is used for indexing the data\n",
    "    print(d,i)"
   ]
  },
  {
   "cell_type": "code",
   "execution_count": null,
   "id": "4f929dd2-654b-4b6d-8f54-118e9ba60df4",
   "metadata": {},
   "outputs": [],
   "source": []
  }
 ],
 "metadata": {
  "kernelspec": {
   "display_name": "Python 3 (ipykernel)",
   "language": "python",
   "name": "python3"
  },
  "language_info": {
   "codemirror_mode": {
    "name": "ipython",
    "version": 3
   },
   "file_extension": ".py",
   "mimetype": "text/x-python",
   "name": "python",
   "nbconvert_exporter": "python",
   "pygments_lexer": "ipython3",
   "version": "3.12.4"
  }
 },
 "nbformat": 4,
 "nbformat_minor": 5
}
