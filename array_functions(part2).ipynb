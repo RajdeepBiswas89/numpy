{
 "cells": [
  {
   "cell_type": "markdown",
   "id": "676cd3b5-ae40-4c08-9989-5c231293db5e",
   "metadata": {},
   "source": [
    "shuffle() -> randomly shuffles the array"
   ]
  },
  {
   "cell_type": "code",
   "execution_count": 5,
   "id": "37571542-7c9d-4061-a169-0a4fe6de5e42",
   "metadata": {},
   "outputs": [
    {
     "name": "stdout",
     "output_type": "stream",
     "text": [
      "[34 32 67 67 68 21 34 78 68 89 34 34]\n"
     ]
    }
   ],
   "source": [
    "import numpy as np\n",
    "ar= np.array([67,34,78,32,68,68,67,89,21,34,34,34])\n",
    "np.random.shuffle(ar)\n",
    "print(ar)"
   ]
  },
  {
   "cell_type": "markdown",
   "id": "353d0a2f-958c-4b06-b840-5bad241cf21d",
   "metadata": {},
   "source": [
    "unique()-> sort the array in ascending order and remove all the repeated elements\n",
    "parameters:=\n",
    "1)return_counts->returns how many times the each elements occurs"
   ]
  },
  {
   "cell_type": "code",
   "execution_count": 9,
   "id": "b3c9398f-935d-4c48-817a-378c9efc1590",
   "metadata": {},
   "outputs": [
    {
     "name": "stdout",
     "output_type": "stream",
     "text": [
      "(array([21, 32, 34, 67, 68, 78, 89]), array([8, 3, 1, 0, 4, 2, 7]), array([1, 1, 4, 2, 2, 1, 1]))\n"
     ]
    }
   ],
   "source": [
    "a= np.array([67,34,78,32,68,68,67,89,21,34,34,34])\n",
    "x= np.unique(a,return_index=True,return_counts=True) #sort the array in ascending order and remove all the repeated elements\n",
    "print(x)"
   ]
  },
  {
   "cell_type": "markdown",
   "id": "720a72ba-4585-4a37-a150-578e7a8d63ed",
   "metadata": {},
   "source": [
    "resize()-> used to resize the array into other dimensions"
   ]
  },
  {
   "cell_type": "code",
   "execution_count": 17,
   "id": "2a863931-3465-47e0-9cfb-e11cefcffda7",
   "metadata": {},
   "outputs": [
    {
     "name": "stdout",
     "output_type": "stream",
     "text": [
      "[[67 34]\n",
      " [78 32]\n",
      " [68 68]\n",
      " [67 89]\n",
      " [21 34]\n",
      " [34 34]]\n",
      "[67 34 78 32 68 68 67 89 21 34 34 34]\n",
      "[67 78 68 67 21 34 34 32 68 89 34 34]\n",
      "[67 34 78 32 68 68 67 89 21 34 34 34]\n",
      "ravel :  [67 34 78 32 68 68 67 89 21 34 34 34]\n"
     ]
    }
   ],
   "source": [
    "p= np.array([67,34,78,32,68,68,67,89,21,34,34,34])\n",
    "x=np.resize(p,(6,2)) #resized the 1d array into 2d array\n",
    "print(x)\n",
    "print(\"flatten in column major\",x.flatten(order=\"C\")) #resize the 2d array in column major order\n",
    "print(\"fla\",x.flatten(order=\"F\"))#resize the 2d array in row major order\n",
    "print(x.flatten(order=\"K\"))\n",
    "print(\"ravel : \",np.ravel(p,order=\"C\")) #it also resize the array into 1d column major order just like flatten functions"
   ]
  },
  {
   "cell_type": "code",
   "execution_count": null,
   "id": "6bd17389-2ea9-4eeb-b035-a4d42f1539ea",
   "metadata": {},
   "outputs": [],
   "source": []
  }
 ],
 "metadata": {
  "kernelspec": {
   "display_name": "Python 3 (ipykernel)",
   "language": "python",
   "name": "python3"
  },
  "language_info": {
   "codemirror_mode": {
    "name": "ipython",
    "version": 3
   },
   "file_extension": ".py",
   "mimetype": "text/x-python",
   "name": "python",
   "nbconvert_exporter": "python",
   "pygments_lexer": "ipython3",
   "version": "3.12.4"
  }
 },
 "nbformat": 4,
 "nbformat_minor": 5
}
