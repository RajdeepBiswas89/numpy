{
 "cells": [
  {
   "cell_type": "code",
   "execution_count": 2,
   "id": "d390e58f-7805-483e-b8af-dc84242b225f",
   "metadata": {},
   "outputs": [
    {
     "name": "stdout",
     "output_type": "stream",
     "text": [
      "data type of var 1 is: [1 3 5 7 8 9 9 3]\n"
     ]
    }
   ],
   "source": [
    "import numpy as np\n",
    "var1= np.array([1,3,5,7,8,9,9,3])\n",
    "print(f\"data type of var 1 is: {var1}\") "
   ]
  },
  {
   "cell_type": "code",
   "execution_count": null,
   "id": "918b5b08-7c56-4ccf-ac86-6e436bf8229c",
   "metadata": {},
   "outputs": [],
   "source": []
  }
 ],
 "metadata": {
  "kernelspec": {
   "display_name": "Python 3 (ipykernel)",
   "language": "python",
   "name": "python3"
  },
  "language_info": {
   "codemirror_mode": {
    "name": "ipython",
    "version": 3
   },
   "file_extension": ".py",
   "mimetype": "text/x-python",
   "name": "python",
   "nbconvert_exporter": "python",
   "pygments_lexer": "ipython3",
   "version": "3.12.4"
  }
 },
 "nbformat": 4,
 "nbformat_minor": 5
}
