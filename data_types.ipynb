{
 "cells": [
  {
   "cell_type": "markdown",
   "id": "8389aaac-9bb7-4d74-a669-98a4548e937b",
   "metadata": {},
   "source": [
    "**DATA TYPES AND TYPECASTING**"
   ]
  },
  {
   "cell_type": "code",
   "execution_count": 2,
   "id": "d390e58f-7805-483e-b8af-dc84242b225f",
   "metadata": {},
   "outputs": [
    {
     "name": "stdout",
     "output_type": "stream",
     "text": [
      "data type of var 1 [1 3 5 7 8 9 9 3] int64\n"
     ]
    }
   ],
   "source": [
    "import numpy as np\n",
    "var1= np.array([1,3,5,7,8,9,9,3])\n",
    "print(f\"data type of var 1 {var1}\",var1.dtype) "
   ]
  },
  {
   "cell_type": "code",
   "execution_count": 3,
   "id": "918b5b08-7c56-4ccf-ac86-6e436bf8229c",
   "metadata": {},
   "outputs": [
    {
     "name": "stdout",
     "output_type": "stream",
     "text": [
      "data type of var 1 [ 1.  89.3 67.8] float64\n"
     ]
    }
   ],
   "source": [
    "import numpy as np\n",
    "var2= np.array([1.0,89.3,67.8])\n",
    "print(f\"data type of var 1 {var2}\",var2.dtype) "
   ]
  },
  {
   "cell_type": "markdown",
   "id": "c9601259-f1b8-4164-b8d9-caf6358bb3e4",
   "metadata": {},
   "source": [
    "**converting data types:-**"
   ]
  },
  {
   "cell_type": "code",
   "execution_count": 6,
   "id": "89982bfe-382a-4030-902e-ef96d21c9466",
   "metadata": {},
   "outputs": [
    {
     "name": "stdout",
     "output_type": "stream",
     "text": [
      "int8\n",
      "<class 'numpy.ndarray'>\n"
     ]
    }
   ],
   "source": [
    "x1=np.array([1,2,3,4,5],dtype=np.int8)\n",
    "print(x1.dtype)\n",
    "print(type(x1))"
   ]
  },
  {
   "cell_type": "code",
   "execution_count": 8,
   "id": "8e28ca34-5459-4e09-854d-32cd0d0e2093",
   "metadata": {},
   "outputs": [
    {
     "name": "stdout",
     "output_type": "stream",
     "text": [
      "float32\n"
     ]
    }
   ],
   "source": [
    "x2=np.array([1,2,3,4,5,6,7,8,9], dtype=\"f\") #converting it into float data types\n",
    "print(x2.dtype)\n",
    "\n"
   ]
  },
  {
   "cell_type": "code",
   "execution_count": 10,
   "id": "c574073b-73b6-48af-a9f2-0a8414f597ea",
   "metadata": {},
   "outputs": [
    {
     "name": "stdout",
     "output_type": "stream",
     "text": [
      "data type of x3 int64\n",
      "data type of new float32\n",
      "data type of new1 int64\n",
      "[1 2 4 5 6 7 4 5 7]\n",
      "[1. 2. 4. 5. 6. 7. 4. 5. 7.]\n",
      "[1 2 4 5 6 7 4 5 7]\n"
     ]
    }
   ],
   "source": [
    "x3=np.array([1,2,4,5,6,7,4,5,7])\n",
    "new=np.float32(x3) #converting into float data type\n",
    "new1=np.int_(new)#again converting into integer data type\n",
    "\n",
    "print(\"data type of x3\",x3.dtype)\n",
    "print(\"data type of new\",new.dtype)\n",
    "print(\"data type of new1\",new1.dtype)\n",
    "print(x3)\n",
    "print(new)\n",
    "print(new1)\n"
   ]
  },
  {
   "cell_type": "code",
   "execution_count": null,
   "id": "a3ddfd77-20e6-49f9-ac18-5428a5332ada",
   "metadata": {},
   "outputs": [],
   "source": []
  }
 ],
 "metadata": {
  "kernelspec": {
   "display_name": "Python 3 (ipykernel)",
   "language": "python",
   "name": "python3"
  },
  "language_info": {
   "codemirror_mode": {
    "name": "ipython",
    "version": 3
   },
   "file_extension": ".py",
   "mimetype": "text/x-python",
   "name": "python",
   "nbconvert_exporter": "python",
   "pygments_lexer": "ipython3",
   "version": "3.12.4"
  }
 },
 "nbformat": 4,
 "nbformat_minor": 5
}
