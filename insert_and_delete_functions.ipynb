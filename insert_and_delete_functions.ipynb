{
 "cells": [
  {
   "cell_type": "markdown",
   "id": "fbea9fb1-e772-469b-9b25-694a5a462f08",
   "metadata": {},
   "source": [
    "**INSERTING FUNCTION**"
   ]
  },
  {
   "cell_type": "markdown",
   "id": "a6b30e26-fd16-446f-94e6-22e0be34d66c",
   "metadata": {},
   "source": [
    "inserting number in 1d array"
   ]
  },
  {
   "cell_type": "code",
   "execution_count": 24,
   "id": "c008cb62-d7df-4fe8-abcc-a932a5756be9",
   "metadata": {},
   "outputs": [
    {
     "name": "stdout",
     "output_type": "stream",
     "text": [
      "[  1   4 100   5  96 200   7  23   5   6   3  23  76]\n"
     ]
    }
   ],
   "source": [
    "import numpy as np\n",
    "arr=([1,4,5,96,7,23,5,6,3,23,76])\n",
    "x= np.insert(arr,(2,4),[100,200]) #insert 100 in index 2 and 200 in index 4 respectively\n",
    "print(x)"
   ]
  },
  {
   "cell_type": "markdown",
   "id": "c572d888-d7fb-4ce9-bc14-e535de52fca7",
   "metadata": {},
   "source": [
    "inserting number in 2d array"
   ]
  },
  {
   "cell_type": "code",
   "execution_count": 8,
   "id": "c35a52de-ee0d-4903-9301-cfb58d2e86e2",
   "metadata": {},
   "outputs": [
    {
     "name": "stdout",
     "output_type": "stream",
     "text": [
      "[[ 1  2  3  4]\n",
      " [56 67 89  7]\n",
      " [22 23 24 25]]\n",
      "\n",
      "[[ 1  2 22  3  4]\n",
      " [56 67 23 89  7]]\n"
     ]
    }
   ],
   "source": [
    "a=np.array([[1,2,3,4],[56,67,89,7]])\n",
    "y=np.insert(a,2,[22,23,24,25],axis=0) #row wise\n",
    "z=np.insert(a,2,[22,23],axis=1)#column wise\n",
    "print(y)\n",
    "print()\n",
    "print(z)"
   ]
  },
  {
   "cell_type": "markdown",
   "id": "ce126ba0-719b-48e4-a658-190eba83d879",
   "metadata": {},
   "source": [
    "**DELETE FUNCTION**"
   ]
  },
  {
   "cell_type": "code",
   "execution_count": 12,
   "id": "ec63b5d5-1a60-47f8-ac71-bb781e4cd58b",
   "metadata": {},
   "outputs": [
    {
     "name": "stdout",
     "output_type": "stream",
     "text": [
      "[1, 4, 5, 96, 7, 23, 5, 6, 3, 23, 76]\n",
      "\n",
      "[ 1  4  5 96 23  5  6  3 23 76]\n"
     ]
    }
   ],
   "source": [
    "v=([1,4,5,96,7,23,5,6,3,23,76])\n",
    "dels=np.delete(v,4) #deleting value at 4th index\n",
    "print(v)\n",
    "print()\n",
    "print(dels)"
   ]
  },
  {
   "cell_type": "code",
   "execution_count": 23,
   "id": "9ae800ea-dec7-494f-bd5d-801ab7cffa7e",
   "metadata": {},
   "outputs": [
    {
     "name": "stdout",
     "output_type": "stream",
     "text": [
      "[[ 1  2  3  4]\n",
      " [56 67 89  7]]\n",
      "\n",
      "[[56 67 89  7]]\n",
      "\n",
      "[[ 3  4]\n",
      " [89  7]]\n"
     ]
    }
   ],
   "source": [
    "l=np.array([[1,2,3,4],[56,67,89,7]])\n",
    "dels1=np.delete(l,(0,0),axis=0)\n",
    "dels2=np.delete(l,(0,1),axis=1)\n",
    "print(l)\n",
    "print()\n",
    "print(dels1)\n",
    "print()\n",
    "print(dels2)"
   ]
  },
  {
   "cell_type": "code",
   "execution_count": null,
   "id": "bffa69b6-1b0c-4f32-b796-a095eb3fe0aa",
   "metadata": {},
   "outputs": [],
   "source": []
  }
 ],
 "metadata": {
  "kernelspec": {
   "display_name": "Python 3 (ipykernel)",
   "language": "python",
   "name": "python3"
  },
  "language_info": {
   "codemirror_mode": {
    "name": "ipython",
    "version": 3
   },
   "file_extension": ".py",
   "mimetype": "text/x-python",
   "name": "python",
   "nbconvert_exporter": "python",
   "pygments_lexer": "ipython3",
   "version": "3.12.4"
  }
 },
 "nbformat": 4,
 "nbformat_minor": 5
}
