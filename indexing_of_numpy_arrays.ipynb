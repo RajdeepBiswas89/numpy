{
 "cells": [
  {
   "cell_type": "code",
   "execution_count": 8,
   "id": "f4a96972-badd-41f8-92ea-2a2e8241e6b7",
   "metadata": {},
   "outputs": [
    {
     "name": "stdout",
     "output_type": "stream",
     "text": [
      "4\n",
      "[[1 2 3 4]\n",
      " [5 6 7 8]]\n"
     ]
    }
   ],
   "source": [
    "import numpy as np\n",
    "arr2d=np.array([[1,2,3,4],[5,6,7,8]])\n",
    "print(arr2d[0,3])\n",
    "print(arr2d)"
   ]
  },
  {
   "cell_type": "code",
   "execution_count": 7,
   "id": "2e1cd863-0747-4855-a171-e5168ecfb6da",
   "metadata": {},
   "outputs": [
    {
     "name": "stdout",
     "output_type": "stream",
     "text": [
      "3\n",
      "[[[1 2 4]\n",
      "  [1 5 7]]]\n",
      "5\n"
     ]
    }
   ],
   "source": [
    "arr3d=np.array([[[1,2,4],[1,5,7]]])\n",
    "print(arr3d.ndim)\n",
    "print(arr3d)\n",
    "print(arr3d[0,1,1])"
   ]
  },
  {
   "cell_type": "code",
   "execution_count": null,
   "id": "1f192eee-9e91-4609-8b45-83bd2b0373a0",
   "metadata": {},
   "outputs": [],
   "source": []
  }
 ],
 "metadata": {
  "kernelspec": {
   "display_name": "Python 3 (ipykernel)",
   "language": "python",
   "name": "python3"
  },
  "language_info": {
   "codemirror_mode": {
    "name": "ipython",
    "version": 3
   },
   "file_extension": ".py",
   "mimetype": "text/x-python",
   "name": "python",
   "nbconvert_exporter": "python",
   "pygments_lexer": "ipython3",
   "version": "3.12.4"
  }
 },
 "nbformat": 4,
 "nbformat_minor": 5
}
