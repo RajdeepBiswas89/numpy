{
 "cells": [
  {
   "cell_type": "code",
   "execution_count": 7,
   "id": "8042f7b0-7384-44ec-bd25-1deaf39a248e",
   "metadata": {},
   "outputs": [
    {
     "name": "stdout",
     "output_type": "stream",
     "text": [
      "(array([1]),)\n"
     ]
    }
   ],
   "source": [
    "import numpy as np\n",
    "arr= np.array([1,2,3,4,5,6,7])\n",
    "x= np.where(arr==2) #gives the index value of that variables\n",
    "print(x)"
   ]
  },
  {
   "cell_type": "markdown",
   "id": "b9f13016-8e53-4e40-9e03-832927079470",
   "metadata": {},
   "source": [
    "sorting an 1d or 2d array"
   ]
  },
  {
   "cell_type": "code",
   "execution_count": 8,
   "id": "a65c074f-b702-48f9-808d-55c145ca562f",
   "metadata": {},
   "outputs": [
    {
     "name": "stdout",
     "output_type": "stream",
     "text": [
      "[ 0  1  1  2  4 21 23 32 68 76 89 99]\n",
      "[[ 1  2  3  4]\n",
      " [14 21 78 87]]\n",
      "['a' 'h' 'j' 'r' 'x' 'z']\n"
     ]
    }
   ],
   "source": [
    "a=np.array([23,99,1,2,4,89,32,68,21,76,1,0])\n",
    "print(np.sort(a)) #sorted the array in ascending order\n",
    "b=([[1,2,3,4],[78,21,87,14]]) #sorting of a 2d matrix or array\n",
    "print(np.sort(b))\n",
    "c=([\"a\",\"z\",\"h\",\"j\",\"x\",\"r\"]) #sorting a string\n",
    "print(np.sort(c))"
   ]
  },
  {
   "cell_type": "markdown",
   "id": "5bb0173d-9f71-49fc-bfc8-9406f747b184",
   "metadata": {},
   "source": [
    "filter array"
   ]
  },
  {
   "cell_type": "code",
   "execution_count": 6,
   "id": "95b139ea-4ecc-4d68-9308-010a85a961de",
   "metadata": {},
   "outputs": [
    {
     "name": "stdout",
     "output_type": "stream",
     "text": [
      "[1 2 5]\n"
     ]
    }
   ],
   "source": [
    "x=np.array([1,2,3,4,5])\n",
    "filters=[True,True,False,False,True]\n",
    "new_array=x[filters] #it filter out the true part of the array and created a new memorage storage of the array\n",
    "print(new_array)"
   ]
  },
  {
   "cell_type": "code",
   "execution_count": null,
   "id": "ccc48015-f316-4ded-864f-c885f37630c5",
   "metadata": {},
   "outputs": [],
   "source": []
  }
 ],
 "metadata": {
  "kernelspec": {
   "display_name": "Python 3 (ipykernel)",
   "language": "python",
   "name": "python3"
  },
  "language_info": {
   "codemirror_mode": {
    "name": "ipython",
    "version": 3
   },
   "file_extension": ".py",
   "mimetype": "text/x-python",
   "name": "python",
   "nbconvert_exporter": "python",
   "pygments_lexer": "ipython3",
   "version": "3.12.4"
  }
 },
 "nbformat": 4,
 "nbformat_minor": 5
}
