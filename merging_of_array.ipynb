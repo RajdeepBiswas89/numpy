{
 "cells": [
  {
   "cell_type": "markdown",
   "id": "04ff39eb-d271-45ca-b531-3a12e5e6a146",
   "metadata": {},
   "source": [
    "concatenate function"
   ]
  },
  {
   "cell_type": "code",
   "execution_count": 2,
   "id": "757ee501-9aed-4243-8524-76f89c251a17",
   "metadata": {},
   "outputs": [
    {
     "name": "stdout",
     "output_type": "stream",
     "text": [
      "[[ 1  2  4]\n",
      " [ 1 76  8]\n",
      " [ 9  8  9]\n",
      " [65 54 77]]\n",
      "\n",
      "[[ 1  2  4  9  8  9]\n",
      " [ 1 76  8 65 54 77]]\n"
     ]
    }
   ],
   "source": [
    "import numpy as np\n",
    "x= np.array([[1,2,4],[1,76,8]])\n",
    "y= np.array([[9,8,9],[65,54,77]])\n",
    "arr_new= np.concatenate((x,y),axis=0)\n",
    "arr_new1= np.concatenate((x,y),axis=1)\n",
    "\n",
    "print(arr_new)\n",
    "print()\n",
    "print(arr_new1)"
   ]
  },
  {
   "cell_type": "markdown",
   "id": "4380235a-27a8-4d75-aeb9-3e7360bed9c6",
   "metadata": {},
   "source": [
    "using stack function"
   ]
  },
  {
   "cell_type": "code",
   "execution_count": 4,
   "id": "9244155b-0099-440a-8cc0-95a77c07951a",
   "metadata": {},
   "outputs": [
    {
     "name": "stdout",
     "output_type": "stream",
     "text": [
      "[[1 2 3 4]\n",
      " [5 6 7 8]]\n",
      "[[1 2 3 4]\n",
      " [5 6 7 8]]\n",
      "[1 2 3 4 5 6 7 8]\n",
      "[[[1 5]\n",
      "  [2 6]\n",
      "  [3 7]\n",
      "  [4 8]]]\n"
     ]
    }
   ],
   "source": [
    "a1=np.array([1,2,3,4])\n",
    "a2=np.array([5,6,7,8])\n",
    "i= np.stack((a1,a2),axis=0)\n",
    "j=np.vstack((a1,a2)) #column\n",
    "k=np.hstack((a1,a2)) #row\n",
    "f= np.dstack((a1,a2)) #height\n",
    "print(i)\n",
    "print(j)\n",
    "print(k)\n",
    "print(f)"
   ]
  },
  {
   "cell_type": "markdown",
   "id": "39f38fd5-a843-4067-a5c7-a9fb68263134",
   "metadata": {},
   "source": [
    "split array"
   ]
  },
  {
   "cell_type": "code",
   "execution_count": 8,
   "id": "3f0a9c30-a287-4e60-818f-ec096fd9e0a9",
   "metadata": {},
   "outputs": [
    {
     "name": "stdout",
     "output_type": "stream",
     "text": [
      "[array([1]), array([2]), array([3]), array([4]), array([5]), array([6]), array([], dtype=int64), array([], dtype=int64), array([], dtype=int64), array([], dtype=int64)]\n"
     ]
    }
   ],
   "source": [
    "v= np.array([1,2,3,4,5,6])\n",
    "po= np.array_split(v,10)\n",
    "print(po)"
   ]
  },
  {
   "cell_type": "code",
   "execution_count": null,
   "id": "7439eda2-a081-4b0d-b11c-8308d9508b6b",
   "metadata": {},
   "outputs": [],
   "source": []
  }
 ],
 "metadata": {
  "kernelspec": {
   "display_name": "Python 3 (ipykernel)",
   "language": "python",
   "name": "python3"
  },
  "language_info": {
   "codemirror_mode": {
    "name": "ipython",
    "version": 3
   },
   "file_extension": ".py",
   "mimetype": "text/x-python",
   "name": "python",
   "nbconvert_exporter": "python",
   "pygments_lexer": "ipython3",
   "version": "3.12.4"
  }
 },
 "nbformat": 4,
 "nbformat_minor": 5
}
