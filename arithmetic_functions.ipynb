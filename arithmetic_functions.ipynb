{
 "cells": [
  {
   "cell_type": "code",
   "execution_count": 14,
   "id": "dfb8e9a7-19d5-4a7a-b00d-cec68abfbfa7",
   "metadata": {},
   "outputs": [
    {
     "name": "stdout",
     "output_type": "stream",
     "text": [
      "the minimum number from the array is :  0\n",
      "position min :  5\n",
      "the minimum number from the array is :  6\n",
      "position min :  4\n",
      "square root of the matrix [1.         1.41421356 2.         2.23606798 2.44948974 0.        ]\n",
      "sin function [ 0.84147098  0.90929743 -0.7568025  -0.95892427 -0.2794155   0.        ]\n",
      "cos function [ 0.54030231 -0.41614684 -0.65364362  0.28366219  0.96017029  1.        ]\n",
      "cumulative sum is  [ 1  3  7 12 18 18]\n"
     ]
    }
   ],
   "source": [
    "import numpy as np\n",
    "var1 = np.array([1,2,4,5,6,0])\n",
    "print(\"the minimum number from the array is : \",np.min(var1))\n",
    "print(\"position min : \",np.argmin(var1))\n",
    "print(\"the minimum number from the array is : \",np.max(var1))\n",
    "print(\"position min : \",np.argmax(var1))\n",
    "print(\"square root of the matrix\",np.sqrt(var1))\n",
    "print(\"sin function\",np.sin(var1))\n",
    "print(\"cos function\",np.cos(var1))\n",
    "print(\"cumulative sum is \", np.cumsum(var1))"
   ]
  },
  {
   "cell_type": "code",
   "execution_count": 15,
   "id": "f43afef7-3e5f-4f92-8c6f-02e72ac1635f",
   "metadata": {},
   "outputs": [
    {
     "name": "stdout",
     "output_type": "stream",
     "text": [
      "[0 2 0 1 5]\n",
      "[1 0]\n",
      "square root of the matrix [[1.         1.41421356 1.73205081 2.         2.23606798]\n",
      " [0.         1.73205081 0.         1.         3.        ]]\n",
      "cumulative sum is  [ 1  3  6 10 15 15 18 18 19 28]\n"
     ]
    }
   ],
   "source": [
    "var2d=np.array([[1,2,3,4,5],[0,3,0,1,9]])\n",
    "print(np.min(var2d,axis=0)) #along each column\n",
    "print(np.min(var2d,axis=1)) #along each row\n",
    "print(\"square root of the matrix\",np.sqrt(var2d))\n",
    "print(\"cumulative sum is \", np.cumsum(var2d))"
   ]
  },
  {
   "cell_type": "code",
   "execution_count": null,
   "id": "d9c51ae6-6b1b-4ee3-9ee7-36f6917f8ffb",
   "metadata": {},
   "outputs": [],
   "source": []
  }
 ],
 "metadata": {
  "kernelspec": {
   "display_name": "Python 3 (ipykernel)",
   "language": "python",
   "name": "python3"
  },
  "language_info": {
   "codemirror_mode": {
    "name": "ipython",
    "version": 3
   },
   "file_extension": ".py",
   "mimetype": "text/x-python",
   "name": "python",
   "nbconvert_exporter": "python",
   "pygments_lexer": "ipython3",
   "version": "3.12.4"
  }
 },
 "nbformat": 4,
 "nbformat_minor": 5
}
