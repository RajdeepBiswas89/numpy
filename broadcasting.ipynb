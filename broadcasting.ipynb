{
 "cells": [
  {
   "cell_type": "code",
   "execution_count": 4,
   "id": "1ab9a93f-b3aa-4477-a532-ff77a258b574",
   "metadata": {},
   "outputs": [
    {
     "name": "stdout",
     "output_type": "stream",
     "text": [
      "[[1]\n",
      " [2]\n",
      " [3]]\n",
      "[1 2 3]\n",
      "\n",
      "[[2 3 4]\n",
      " [3 4 5]\n",
      " [4 5 6]]\n"
     ]
    }
   ],
   "source": [
    "import numpy as np\n",
    "arr1= np.array([[1],[2],[3]]) #3x1 matrix\n",
    "arr2= np.array([1,2,3]) #1x3 matrix\n",
    "print(arr1)\n",
    "print(arr2)\n",
    "print()\n",
    "print(arr1+arr2) # 3x3 matrix formed\n"
   ]
  },
  {
   "cell_type": "markdown",
   "id": "9c1ce92a-9414-40ed-a0b4-511655106511",
   "metadata": {},
   "source": [
    "**broadcasting error**"
   ]
  },
  {
   "cell_type": "markdown",
   "id": "ea98e2f7-37f1-475d-ad15-4e1e485459cb",
   "metadata": {},
   "source": [
    "it should contain atleast one common row or column to prevent the broadcasting problems"
   ]
  },
  {
   "cell_type": "code",
   "execution_count": 6,
   "id": "e3e74579-fe8b-4ff1-8eef-be57d19b457c",
   "metadata": {},
   "outputs": [
    {
     "name": "stdout",
     "output_type": "stream",
     "text": [
      "[[1 2]\n",
      " [2 3]\n",
      " [3 5]]\n",
      "[1 2]\n",
      "\n",
      "[[2 4]\n",
      " [3 5]\n",
      " [4 7]]\n"
     ]
    }
   ],
   "source": [
    "arr3= np.array([[1,2],[2,3],[3,5]]) #3x2 matrix\n",
    "arr4= np.array([1,2]) #1x2 matrix\n",
    "print(arr3)\n",
    "print(arr4)\n",
    "print()\n",
    "print(arr3+arr4) # 3x2 matrix formed"
   ]
  },
  {
   "cell_type": "code",
   "execution_count": null,
   "id": "1d7a678a-29fb-49aa-8644-d1779daafc8b",
   "metadata": {},
   "outputs": [],
   "source": []
  }
 ],
 "metadata": {
  "kernelspec": {
   "display_name": "Python 3 (ipykernel)",
   "language": "python",
   "name": "python3"
  },
  "language_info": {
   "codemirror_mode": {
    "name": "ipython",
    "version": 3
   },
   "file_extension": ".py",
   "mimetype": "text/x-python",
   "name": "python",
   "nbconvert_exporter": "python",
   "pygments_lexer": "ipython3",
   "version": "3.12.4"
  }
 },
 "nbformat": 4,
 "nbformat_minor": 5
}
