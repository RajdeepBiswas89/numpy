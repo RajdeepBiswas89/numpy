{
 "cells": [
  {
   "cell_type": "markdown",
   "id": "aa072f2b-b5e1-4cbb-aca0-5dc192072ddb",
   "metadata": {},
   "source": [
    "matrix vs arrays"
   ]
  },
  {
   "cell_type": "code",
   "execution_count": null,
   "id": "151da1aa-49f1-4843-a0d6-f4cbcdcad755",
   "metadata": {},
   "outputs": [],
   "source": [
    "1 2 3    1 2 3\n",
    "1 2 3    1 2 3"
   ]
  },
  {
   "cell_type": "code",
   "execution_count": 10,
   "id": "4093c2ba-66d4-47b7-ad6b-a06a68cc4f9d",
   "metadata": {},
   "outputs": [
    {
     "name": "stdout",
     "output_type": "stream",
     "text": [
      "[[1 2 3]\n",
      " [1 2 3]\n",
      " [1 2 3]]\n",
      "<class 'numpy.matrix'>\n",
      "\n",
      "[[ 6 12 18]\n",
      " [ 6 12 18]\n",
      " [ 6 12 18]]\n"
     ]
    }
   ],
   "source": [
    "import numpy as np\n",
    "arr= np.matrix([[1,2,3],[1,2,3],[1,2,3]])\n",
    "arr2=np.matrix([[1,2,3],[1,2,3],[1,2,3]])\n",
    "print(arr)\n",
    "print(type(arr))\n",
    "print()\n",
    "print(arr*arr2) #knows as dot product"
   ]
  },
  {
   "cell_type": "code",
   "execution_count": 9,
   "id": "b8bb31be-58b0-45b8-9fcd-594625b62a86",
   "metadata": {},
   "outputs": [
    {
     "name": "stdout",
     "output_type": "stream",
     "text": [
      "[[1 4 9]\n",
      " [1 4 9]\n",
      " [1 4 9]]\n"
     ]
    }
   ],
   "source": [
    "a= np.array([[1,2,3],[1,2,3],[1,2,3]])\n",
    "b=np.array([[1,2,3],[1,2,3],[1,2,3]])\n",
    "print(a*b)"
   ]
  },
  {
   "cell_type": "markdown",
   "id": "09ffb89d-d042-4cf5-99c9-b922c46a0a27",
   "metadata": {},
   "source": [
    "transpose of a matrix"
   ]
  },
  {
   "cell_type": "code",
   "execution_count": 14,
   "id": "2c9e20ae-dfe7-46d1-a462-cff2a1a78758",
   "metadata": {},
   "outputs": [
    {
     "name": "stdout",
     "output_type": "stream",
     "text": [
      "[[1 2 3]\n",
      " [1 2 3]\n",
      " [1 2 3]]\n",
      "\n",
      "[[1 1 1]\n",
      " [2 2 2]\n",
      " [3 3 3]]\n",
      "\n",
      "[[1 1 1]\n",
      " [2 2 2]\n",
      " [3 3 3]]\n"
     ]
    }
   ],
   "source": [
    "c= np.array([[1,2,3],[1,2,3],[1,2,3]])\n",
    "print(c)\n",
    "print()\n",
    "print(np.transpose(c))\n",
    "print()\n",
    "print(np.swapaxes(c,0,1)) #both swapaxes and transpose does the same thing"
   ]
  },
  {
   "cell_type": "markdown",
   "id": "76f5c626-b645-468b-9b4c-6b754215fba9",
   "metadata": {},
   "source": [
    "inverse of a matrix"
   ]
  },
  {
   "cell_type": "code",
   "execution_count": 25,
   "id": "ce7418c4-37c6-4fc8-96a4-4a8b1bd1c65f",
   "metadata": {},
   "outputs": [
    {
     "name": "stdout",
     "output_type": "stream",
     "text": [
      "[[-0.8  0.2]\n",
      " [ 0.9 -0.1]]\n"
     ]
    }
   ],
   "source": [
    "c= np.matrix([[1,2],[9,8]])\n",
    "print(np.linalg.inv(c)) #it doesnt work on the singular matrix"
   ]
  },
  {
   "cell_type": "markdown",
   "id": "e62cf56c-a9df-42d7-8358-49825ddca32b",
   "metadata": {},
   "source": [
    "power matrix\n",
    "n>0 = multiplication of the power\n",
    "n=0 -> gives an identity matrix\n",
    "n<0 = gives (power x inverse)"
   ]
  },
  {
   "cell_type": "code",
   "execution_count": 24,
   "id": "f0a1ddb3-f27f-40c9-bfbc-d0203e0f7f01",
   "metadata": {},
   "outputs": [
    {
     "name": "stdout",
     "output_type": "stream",
     "text": [
      "[[1 2]\n",
      " [9 8]]\n",
      "\n",
      "[[19 18]\n",
      " [81 82]]\n",
      "\n",
      "[[1 0]\n",
      " [0 1]]\n",
      "\n",
      "[[ 0.82 -0.18]\n",
      " [-0.81  0.19]]\n"
     ]
    }
   ],
   "source": [
    "c= np.matrix([[1,2],[9,8]])\n",
    "print(c)\n",
    "print()\n",
    "print(np.linalg.matrix_power(c,2))\n",
    "print()\n",
    "print(np.linalg.matrix_power(c,0))# power of 0 results in an identity matrix\n",
    "print()\n",
    "print(np.linalg.matrix_power(c,-2))"
   ]
  },
  {
   "cell_type": "markdown",
   "id": "bd449bda-7397-4abd-b1f3-4b75b77f8dcf",
   "metadata": {},
   "source": [
    "determinate"
   ]
  },
  {
   "cell_type": "code",
   "execution_count": 27,
   "id": "7ab1d6b1-34a7-49ea-af17-87263e14bb9d",
   "metadata": {},
   "outputs": [
    {
     "name": "stdout",
     "output_type": "stream",
     "text": [
      "30.000000000000004\n"
     ]
    }
   ],
   "source": [
    "d= np.matrix([[1,2,3],[9,8,10],[11,12,13]])\n",
    "print(np.linalg.det(d)) #gives the determinate of the matrix"
   ]
  }
 ],
 "metadata": {
  "kernelspec": {
   "display_name": "Python 3 (ipykernel)",
   "language": "python",
   "name": "python3"
  },
  "language_info": {
   "codemirror_mode": {
    "name": "ipython",
    "version": 3
   },
   "file_extension": ".py",
   "mimetype": "text/x-python",
   "name": "python",
   "nbconvert_exporter": "python",
   "pygments_lexer": "ipython3",
   "version": "3.12.4"
  }
 },
 "nbformat": 4,
 "nbformat_minor": 5
}
