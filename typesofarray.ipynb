{
 "cells": [
  {
   "cell_type": "markdown",
   "id": "76e0b03d-26cf-41c9-b678-17bdf2baede6",
   "metadata": {},
   "source": [
    "CREATING TYPES OF ARRAY"
   ]
  },
  {
   "cell_type": "code",
   "execution_count": 12,
   "id": "d85ed45f-8472-473b-a10e-be962143cfbb",
   "metadata": {},
   "outputs": [
    {
     "name": "stdout",
     "output_type": "stream",
     "text": [
      "[ 1  2  3  5 56  6]\n",
      "<class 'numpy.ndarray'>\n"
     ]
    }
   ],
   "source": [
    "import numpy as np\n",
    "y= np.array([1,2,3,5,56,6])\n",
    "print(y)\n",
    "print(type(y))"
   ]
  },
  {
   "cell_type": "code",
   "execution_count": 3,
   "id": "33cb8803-b15d-47df-892b-cfa7d8b22092",
   "metadata": {
    "editable": true,
    "slideshow": {
     "slide_type": ""
    },
    "tags": []
   },
   "outputs": [
    {
     "name": "stdin",
     "output_type": "stream",
     "text": [
      "enter the number 56\n",
      "enter the number 567\n",
      "enter the number 23\n",
      "enter the number 78\n"
     ]
    },
    {
     "name": "stdout",
     "output_type": "stream",
     "text": [
      "[ 56 567  23  78]\n"
     ]
    }
   ],
   "source": [
    "lists=[]\n",
    "for i in range(1,5):\n",
    "    a=int(input(\"enter the number\"))\n",
    "    lists.append(a)\n",
    "print(np.array(lists))\n",
    "    "
   ]
  },
  {
   "cell_type": "code",
   "execution_count": 5,
   "id": "0b5142ea-3acc-406f-a811-ed1bdedcdd7c",
   "metadata": {},
   "outputs": [
    {
     "name": "stdout",
     "output_type": "stream",
     "text": [
      "[[ 1  2  3  4  5]\n",
      " [ 2 56  7  9  3]]\n",
      "2\n"
     ]
    }
   ],
   "source": [
    "#creating 2 dimension array\n",
    "ar2=np.array([[1,2,3,4,5],[2,56,7,9,3]])\n",
    "print(ar2)\n",
    "print(ar2.ndim)"
   ]
  },
  {
   "cell_type": "code",
   "execution_count": 6,
   "id": "a46d500f-22af-4ea2-ae15-39ac94450f65",
   "metadata": {},
   "outputs": [
    {
     "name": "stdout",
     "output_type": "stream",
     "text": [
      "[[[ 1  2  4  5  7  8]\n",
      "  [ 3  5 78  8 67  8]\n",
      "  [ 0  5  4  3  2  1]]]\n",
      "3\n"
     ]
    }
   ],
   "source": [
    "#creating 3d array\n",
    "ar3= np.array([[[1,2,4,5,7,8],[3,5,78,8,67,8],[0,5,4,3,2,1]]])\n",
    "print(ar3)\n",
    "print(ar3.ndim)"
   ]
  },
  {
   "cell_type": "code",
   "execution_count": 8,
   "id": "901d5c39-0573-4f52-8fdc-9ea85a6f9d01",
   "metadata": {},
   "outputs": [
    {
     "name": "stdout",
     "output_type": "stream",
     "text": [
      "[[[[[[[[[[[[[[[[[[[[[[[[[[[[[[1 2 3 4 5]]]]]]]]]]]]]]]]]]]]]]]]]]]]]]\n"
     ]
    }
   ],
   "source": [
    "#creating multi dimensional array\n",
    "arn= np.array([1,2,3,4,5],ndmin=30)\n",
    "print(arn)"
   ]
  },
  {
   "cell_type": "code",
   "execution_count": null,
   "id": "70560731-daaf-4126-8b44-1c8042690f79",
   "metadata": {},
   "outputs": [],
   "source": []
  }
 ],
 "metadata": {
  "kernelspec": {
   "display_name": "Python 3 (ipykernel)",
   "language": "python",
   "name": "python3"
  },
  "language_info": {
   "codemirror_mode": {
    "name": "ipython",
    "version": 3
   },
   "file_extension": ".py",
   "mimetype": "text/x-python",
   "name": "python",
   "nbconvert_exporter": "python",
   "pygments_lexer": "ipython3",
   "version": "3.12.4"
  }
 },
 "nbformat": 4,
 "nbformat_minor": 5
}
